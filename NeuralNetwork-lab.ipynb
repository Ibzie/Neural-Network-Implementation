{
 "nbformat": 4,
 "nbformat_minor": 2,
 "metadata": {
  "colab": {
   "provenance": [],
   "authorship_tag": "ABX9TyMUpEgHNEUhEvvktBMAIcXc",
   "include_colab_link": true
  },
  "kernelspec": {
   "name": "python3",
   "language": "python",
   "display_name": "Python 3 (ipykernel)"
  },
  "language_info": {
   "name": "python"
  }
 },
 "cells": [
  {
   "cell_type": "code",
   "execution_count": 1,
   "source": [
    "import torch\n",
    "import torch.nn as nn\n",
    "import torch.nn.functional as F\n",
    "import pandas as pd\n",
    "from sklearn.model_selection import train_test_split"
   ],
   "outputs": [],
   "metadata": {
    "id": "vGOD8SzOPQAk",
    "ExecuteTime": {
     "end_time": "2024-04-29T10:22:59.472266400Z",
     "start_time": "2024-04-29T10:22:53.129676800Z"
    }
   }
  },
  {
   "cell_type": "code",
   "execution_count": 2,
   "source": [
    "class Model(nn.Module):\n",
    "    def __init__(self, in_features=4, h1=8, h2=9, out_features=3):\n",
    "        super().__init__()  # instantiate our nn.Module\n",
    "        self.fc1 = nn.Linear(in_features, h1)\n",
    "        self.fc2 = nn.Linear(h1, h2)\n",
    "        self.out = nn.Linear(h2, out_features)\n",
    "\n",
    "    def forward(self, x):\n",
    "        x = F.relu(self.fc1(x))\n",
    "        x = F.relu(self.fc2(x))\n",
    "        x = self.out(x)\n",
    "        return x\n"
   ],
   "outputs": [],
   "metadata": {
    "id": "mnDj8FLiRSxO",
    "ExecuteTime": {
     "end_time": "2024-04-29T10:22:59.495079200Z",
     "start_time": "2024-04-29T10:22:59.472266400Z"
    }
   }
  },
  {
   "cell_type": "code",
   "execution_count": 3,
   "source": [
    "torch.manual_seed(41)\n",
    "model = Model()"
   ],
   "outputs": [],
   "metadata": {
    "id": "3O7rymtcT-bD",
    "ExecuteTime": {
     "end_time": "2024-04-29T10:22:59.523760800Z",
     "start_time": "2024-04-29T10:22:59.490947800Z"
    }
   }
  },
  {
   "cell_type": "code",
   "execution_count": 8,
   "source": [
    "url = 'https://gist.githubusercontent.com/netj/8836201/raw/6f9306ad21398ea43cba4f7d537619d0e07d5ae3/iris.csv'\n",
    "my_df = pd.read_csv(url)"
   ],
   "outputs": [],
   "metadata": {
    "id": "11Q8PWnaUVYj",
    "ExecuteTime": {
     "end_time": "2024-04-29T10:24:03.429513100Z",
     "start_time": "2024-04-29T10:24:01.694331700Z"
    }
   }
  },
  {
   "cell_type": "code",
   "execution_count": 9,
   "source": [
    "my_df['variety'] = my_df['variety'].replace('Setosa', 0.0)\n",
    "my_df['variety'] = my_df['variety'].replace('Versicolor', 1.0)\n",
    "my_df['variety'] = my_df['variety'].replace('Virginica', 2.0)\n",
    "print(my_df)"
   ],
   "outputs": [
    {
     "name": "stdout",
     "output_type": "stream",
     "text": [
      "     sepal.length  sepal.width  petal.length  petal.width  variety\n",
      "0             5.1          3.5           1.4          0.2      0.0\n",
      "1             4.9          3.0           1.4          0.2      0.0\n",
      "2             4.7          3.2           1.3          0.2      0.0\n",
      "3             4.6          3.1           1.5          0.2      0.0\n",
      "4             5.0          3.6           1.4          0.2      0.0\n",
      "..            ...          ...           ...          ...      ...\n",
      "145           6.7          3.0           5.2          2.3      2.0\n",
      "146           6.3          2.5           5.0          1.9      2.0\n",
      "147           6.5          3.0           5.2          2.0      2.0\n",
      "148           6.2          3.4           5.4          2.3      2.0\n",
      "149           5.9          3.0           5.1          1.8      2.0\n",
      "\n",
      "[150 rows x 5 columns]\n"
     ]
    },
    {
     "name": "stderr",
     "output_type": "stream",
     "text": [
      "C:\\Users\\ibzcl\\AppData\\Local\\Temp\\ipykernel_18716\\3969337442.py:3: FutureWarning: Downcasting behavior in `replace` is deprecated and will be removed in a future version. To retain the old behavior, explicitly call `result.infer_objects(copy=False)`. To opt-in to the future behavior, set `pd.set_option('future.no_silent_downcasting', True)`\n",
      "  my_df['variety'] = my_df['variety'].replace('Virginica', 2.0)\n"
     ]
    }
   ],
   "metadata": {
    "id": "3WzV4PfT2xhF",
    "ExecuteTime": {
     "end_time": "2024-04-29T10:24:05.536245100Z",
     "start_time": "2024-04-29T10:24:05.514363500Z"
    }
   }
  },
  {
   "cell_type": "code",
   "execution_count": 11,
   "source": [
    "# Train Test Split/ Set X, y\n",
    "X = my_df.drop('variety', axis=1).values\n",
    "y = my_df['variety'].values"
   ],
   "outputs": [],
   "metadata": {
    "colab": {
     "base_uri": "https://localhost:8080/",
     "height": 423
    },
    "id": "qTcYyxFe3ZHU",
    "outputId": "f43bf80f-638a-4b7f-d87c-da58d75f4c8d",
    "ExecuteTime": {
     "end_time": "2024-04-29T10:24:16.490374900Z",
     "start_time": "2024-04-29T10:24:16.464663300Z"
    }
   }
  },
  {
   "cell_type": "code",
   "execution_count": 12,
   "source": [
    "X_train, X_test, y_train, y_test = train_test_split(X, y, test_size=0.2, random_state=42)"
   ],
   "outputs": [],
   "metadata": {
    "id": "1ZCKBrRz3xRE",
    "ExecuteTime": {
     "end_time": "2024-04-29T10:24:17.448431900Z",
     "start_time": "2024-04-29T10:24:17.390816Z"
    }
   }
  },
  {
   "cell_type": "code",
   "execution_count": 13,
   "source": [
    "# Convert X features to float tensors\n",
    "X_train = torch.FloatTensor(X_train)\n",
    "X_test = torch.FloatTensor(X_test)"
   ],
   "outputs": [],
   "metadata": {
    "id": "AvjES9MX4MF1",
    "ExecuteTime": {
     "end_time": "2024-04-29T10:24:18.365572400Z",
     "start_time": "2024-04-29T10:24:18.358082400Z"
    }
   }
  },
  {
   "cell_type": "code",
   "execution_count": 14,
   "source": [
    "y_train = torch.LongTensor(y_train)\n",
    "y_test = torch.LongTensor(y_test)"
   ],
   "outputs": [],
   "metadata": {
    "id": "AkNGTq2e4M40",
    "ExecuteTime": {
     "end_time": "2024-04-29T10:24:22.269613800Z",
     "start_time": "2024-04-29T10:24:22.260961300Z"
    }
   }
  },
  {
   "cell_type": "code",
   "execution_count": 15,
   "source": [
    "criterion = nn.CrossEntropyLoss()"
   ],
   "outputs": [],
   "metadata": {
    "id": "dRv8t5BV4YQs",
    "ExecuteTime": {
     "end_time": "2024-04-29T10:24:22.868995400Z",
     "start_time": "2024-04-29T10:24:22.860935900Z"
    }
   }
  },
  {
   "cell_type": "code",
   "execution_count": 16,
   "source": [
    "optimizer = torch.optim.Adam(model.parameters(), lr=0.01)"
   ],
   "outputs": [],
   "metadata": {
    "id": "eD_LwH6Q46-t",
    "ExecuteTime": {
     "end_time": "2024-04-29T10:24:25.000654900Z",
     "start_time": "2024-04-29T10:24:23.291530200Z"
    }
   }
  },
  {
   "cell_type": "code",
   "execution_count": 17,
   "source": [
    "epochs = 100\n",
    "losses = []\n",
    "for i in range(epochs):\n",
    "    # Go forward and get a prediction\n",
    "    y_pred = model.forward(X_train)\n",
    "\n",
    "    # Measure the loss/error, gonna be high at first\n",
    "    loss = criterion(y_pred, y_train)\n",
    "\n",
    "    # Keep Track of our losses\n",
    "    losses.append(loss)\n",
    "\n",
    "    if i % 10 == 0:\n",
    "        print(f'Epoch {i} and Loss: {loss}')\n",
    "\n",
    "    # Zero gradients\n",
    "    optimizer.zero_grad()\n",
    "\n",
    "    # Backward pass\n",
    "    loss.backward()\n",
    "\n",
    "    # Update weights\n",
    "    optimizer.step()"
   ],
   "outputs": [
    {
     "name": "stdout",
     "output_type": "stream",
     "text": [
      "Epoch 0 and Loss: 1.1253553628921509\n",
      "Epoch 10 and Loss: 1.0189670324325562\n",
      "Epoch 20 and Loss: 0.8335332274436951\n",
      "Epoch 30 and Loss: 0.6014727354049683\n",
      "Epoch 40 and Loss: 0.4118161201477051\n",
      "Epoch 50 and Loss: 0.2799774706363678\n",
      "Epoch 60 and Loss: 0.19088388979434967\n",
      "Epoch 70 and Loss: 0.13471202552318573\n",
      "Epoch 80 and Loss: 0.1010771095752716\n",
      "Epoch 90 and Loss: 0.08242977410554886\n"
     ]
    }
   ],
   "metadata": {
    "id": "Eo-sZan65Qgj",
    "ExecuteTime": {
     "end_time": "2024-04-29T10:24:26.424686300Z",
     "start_time": "2024-04-29T10:24:25.768352700Z"
    }
   }
  },
  {
   "cell_type": "code",
   "execution_count": null,
   "source": [
    "import matplotlib.pyplot as plt\n",
    "plt.plot(range(epochs), losses)\n",
    "plt.ylabel('Loss')\n",
    "plt.xlabel('Epoch')"
   ],
   "outputs": [],
   "metadata": {
    "id": "DoEoy3SA5mAz"
   }
  },
  {
   "cell_type": "code",
   "execution_count": 19,
   "source": [
    "with torch.no_grad():\n",
    "    y_eval = model.forward(X_test)\n",
    "    loss = criterion(y_eval, y_test)"
   ],
   "outputs": [],
   "metadata": {
    "colab": {
     "base_uri": "https://localhost:8080/"
    },
    "id": "i0EJKYEJ6eKz",
    "outputId": "0f714daf-0493-43e9-f058-e7b33fe5e099",
    "ExecuteTime": {
     "end_time": "2024-04-29T10:24:38.698342Z",
     "start_time": "2024-04-29T10:24:38.691878900Z"
    }
   }
  },
  {
   "cell_type": "code",
   "execution_count": 20,
   "source": [
    "print(f'CE Loss: {loss}')"
   ],
   "outputs": [
    {
     "name": "stdout",
     "output_type": "stream",
     "text": [
      "CE Loss: 0.06505453586578369\n"
     ]
    }
   ],
   "metadata": {
    "colab": {
     "base_uri": "https://localhost:8080/",
     "height": 467
    },
    "id": "EErRwcHZ6gD6",
    "outputId": "a2ba8134-399d-4a13-e252-29f4b45dd6b6",
    "ExecuteTime": {
     "end_time": "2024-04-29T10:24:39.746824600Z",
     "start_time": "2024-04-29T10:24:39.737799700Z"
    }
   }
  },
  {
   "cell_type": "code",
   "execution_count": 21,
   "source": [
    "# Predictions for new data\n",
    "new_iris = torch.tensor([4.7, 3.2, 1.3, 0.2])\n",
    "with torch.no_grad():\n",
    "    print(model(new_iris))\n",
    "\n",
    "newer_iris = torch.tensor([5.9, 3.0, 5.1, 1.8])\n",
    "with torch.no_grad():\n",
    "    print(model(newer_iris))"
   ],
   "outputs": [
    {
     "name": "stdout",
     "output_type": "stream",
     "text": [
      "tensor([ 4.7200, -2.4076, -2.9908])\n",
      "tensor([-5.9853,  4.3748,  6.3330])\n"
     ]
    }
   ],
   "metadata": {
    "id": "Dip1EQKV8e8C",
    "ExecuteTime": {
     "end_time": "2024-04-29T10:24:42.460940500Z",
     "start_time": "2024-04-29T10:24:42.453370600Z"
    }
   }
  },
  {
   "cell_type": "code",
   "execution_count": 22,
   "source": [
    "# Save our NN Model\n",
    "torch.save(model.state_dict(), 'my_really_awesome_iris_model.pt')"
   ],
   "outputs": [],
   "metadata": {
    "colab": {
     "base_uri": "https://localhost:8080/"
    },
    "id": "WKGJ7x_NZN5e",
    "outputId": "59c49944-1a98-44cf-d0e4-8f06a80c0b0a",
    "ExecuteTime": {
     "end_time": "2024-04-29T10:24:45.041680900Z",
     "start_time": "2024-04-29T10:24:45.024355700Z"
    }
   }
  },
  {
   "cell_type": "code",
   "execution_count": 23,
   "source": [
    "# Load the Saved Model\n",
    "new_model = Model()\n",
    "new_model.load_state_dict(torch.load('my_really_awesome_iris_model.pt'))\n",
    "new_model.eval()"
   ],
   "outputs": [
    {
     "data": {
      "text/plain": "Model(\n  (fc1): Linear(in_features=4, out_features=8, bias=True)\n  (fc2): Linear(in_features=8, out_features=9, bias=True)\n  (out): Linear(in_features=9, out_features=3, bias=True)\n)"
     },
     "execution_count": 23,
     "metadata": {},
     "output_type": "execute_result"
    }
   ],
   "metadata": {
    "colab": {
     "base_uri": "https://localhost:8080/"
    },
    "id": "lyntMH5tZOtW",
    "outputId": "889fe499-9325-4879-e031-ff69b065b9de",
    "ExecuteTime": {
     "end_time": "2024-04-29T10:24:46.933125300Z",
     "start_time": "2024-04-29T10:24:46.907546700Z"
    }
   }
  },
  {
   "cell_type": "code",
   "execution_count": 24,
   "source": [
    "# Save our NN Model\n",
    "torch.save(model.state_dict(), 'my_really_awesome_iris_model.pt')"
   ],
   "outputs": [],
   "metadata": {
    "id": "cc42k-Crmvck",
    "ExecuteTime": {
     "end_time": "2024-04-29T10:24:49.431227Z",
     "start_time": "2024-04-29T10:24:49.423172800Z"
    }
   }
  },
  {
   "cell_type": "code",
   "outputs": [],
   "source": [],
   "metadata": {
    "collapsed": false
   }
  }
 ]
}
